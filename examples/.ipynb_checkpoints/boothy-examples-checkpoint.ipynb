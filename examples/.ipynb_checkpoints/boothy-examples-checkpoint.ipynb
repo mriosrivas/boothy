{
 "cells": [
  {
   "cell_type": "markdown",
   "id": "e810c445",
   "metadata": {},
   "source": [
    " <img src=\"boothy.png\" alt=\"Boothy\" width=\"200\" height=\"240\" align=\"left\"> "
   ]
  },
  {
   "cell_type": "markdown",
   "id": "a94d99d0",
   "metadata": {},
   "source": [
    "Boothy is an Open Source bootstrap hypothesis library that can help you evaluate different types of hypothesis tests. The aim of boothy is to give an easy way to perform an hypothesis test and interpretation of results.\n",
    "Booty is under development, and any suggestions are welcome.\n",
    "\n",
    "Below there are some examples how you can start using boothy."
   ]
  },
  {
   "cell_type": "code",
   "execution_count": 1,
   "id": "80e08191",
   "metadata": {},
   "outputs": [],
   "source": [
    "import numpy as np\n",
    "import seaborn as sns\n",
    "import matplotlib.pyplot as plt\n",
    "import pandas as pd"
   ]
  },
  {
   "cell_type": "code",
   "execution_count": 2,
   "id": "48e7cf2e",
   "metadata": {},
   "outputs": [],
   "source": [
    "from boothy import Hypothesis"
   ]
  },
  {
   "cell_type": "markdown",
   "id": "725759f7",
   "metadata": {},
   "source": [
    "# Example 1:\n",
    "In this example we want to show how you can test an hypothesis. For this, two datasets are created, and we want to evaluate if the mean of `data_1` is less or equal then the mean of `data_2`."
   ]
  },
  {
   "cell_type": "code",
   "execution_count": 3,
   "id": "b40f4f35",
   "metadata": {},
   "outputs": [],
   "source": [
    "# We first create a normal distribution with mean = 0.1 and std = 0.2\n",
    "data_1 = np.random.normal(0.1, 0.2, 2000)"
   ]
  },
  {
   "cell_type": "code",
   "execution_count": 4,
   "id": "336794a2",
   "metadata": {},
   "outputs": [],
   "source": [
    "# We the create a normal distribution with mean = 0.0 and std = 0.25\n",
    "data_2 = np.random.normal(0.0, 0.25, 2000)"
   ]
  },
  {
   "cell_type": "code",
   "execution_count": 5,
   "id": "d4f93667",
   "metadata": {},
   "outputs": [],
   "source": [
    "# We create on Hypothesis object with data_1 and data_2\n",
    "hypo = Hypothesis(data_1, data_2)"
   ]
  },
  {
   "cell_type": "code",
   "execution_count": 6,
   "id": "0067e762",
   "metadata": {},
   "outputs": [],
   "source": [
    "# We define our null hypothesis\n",
    "null_type = '<='"
   ]
  },
  {
   "cell_type": "code",
   "execution_count": 7,
   "id": "fe0f9916",
   "metadata": {},
   "outputs": [
    {
     "name": "stdout",
     "output_type": "stream",
     "text": [
      "p_val = 0.0\n"
     ]
    },
    {
     "data": {
      "image/png": "[encoded data removed]",
      "text/plain": [
       "<Figure size 432x288 with 1 Axes>"
      ]
     },
     "metadata": {
      "needs_background": "light"
     },
     "output_type": "display_data"
    }
   ],
   "source": [
    "# Finally we evaluate our hypothesis\n",
    "p_val = hypo.eval(iterations=1000, samples=100, replacement=False, null_type=null_type)\n",
    "hypo.plot_hist_diff(null_type=null_type, num_stds=5)\n",
    "#num_stds is a parameter used for plotting purposes\n",
    "print(f'p_val = {p_val}')"
   ]
  },
  {
   "cell_type": "markdown",
   "id": "0e140d5c",
   "metadata": {},
   "source": [
    "With these results, we see that our `p_val` gives us confidence to reject the null."
   ]
  },
  {
   "cell_type": "markdown",
   "id": "2a6e817f",
   "metadata": {},
   "source": [
    "# Example 2:\n",
    "Let's say you have two distributions, as the ones defined by `data_1` and `data_2` below. And you want to test if the first distribution has a mean value greater or equal than the mean valueo of the second distribution. With boothy you can test it very easily."
   ]
  },
  {
   "cell_type": "code",
   "execution_count": 8,
   "id": "1784ad2d",
   "metadata": {},
   "outputs": [],
   "source": [
    "# We first create a normal distribution with mean = 0.1 and std = 0.2\n",
    "data_1 = np.random.randint(0,100, 2000)"
   ]
  },
  {
   "cell_type": "code",
   "execution_count": 9,
   "id": "f6ccee38",
   "metadata": {},
   "outputs": [],
   "source": [
    "# We first create a normal distribution with mean = 0.1 and std = 0.2\n",
    "data_2 = np.random.randint(15,100, 2000)"
   ]
  },
  {
   "cell_type": "code",
   "execution_count": 10,
   "id": "ac705d51",
   "metadata": {},
   "outputs": [],
   "source": [
    "hypo = Hypothesis(data_1, data_2)"
   ]
  },
  {
   "cell_type": "code",
   "execution_count": 11,
   "id": "8660e35d",
   "metadata": {},
   "outputs": [
    {
     "name": "stdout",
     "output_type": "stream",
     "text": [
      "p_val = 0.032\n"
     ]
    },
    {
     "data": {
      "image/png": "[encoded data removed]",
      "text/plain": [
       "<Figure size 432x288 with 1 Axes>"
      ]
     },
     "metadata": {
      "needs_background": "light"
     },
     "output_type": "display_data"
    }
   ],
   "source": [
    "null_type = '>='\n",
    "p_val = hypo.eval(null_type=null_type)\n",
    "hypo.plot_hist_diff(null_type=null_type, num_stds=7)\n",
    "print(f'p_val = {p_val}')"
   ]
  },
  {
   "cell_type": "markdown",
   "id": "86427f77",
   "metadata": {},
   "source": [
    "With the results obatained above, we can reject the null hypothesis."
   ]
  },
  {
   "cell_type": "markdown",
   "id": "d62b98c2",
   "metadata": {},
   "source": [
    "# Example 3:\n",
    "In this example we will perform a more complete hypothesis test using the coffee dataset. This dataset includes information about the height of coffee and non-coffee drinkers. In our hypothesis, we want to probe that the mean height of coffee drinkers is less or equal than the mean height of non coffee drinkers. In this example, we are going to use all the methods inside boothy needed to perform an hypothesis test, and in example 4, we are going to perform the same test using just the `eval` method."
   ]
  },
  {
   "cell_type": "code",
   "execution_count": 12,
   "id": "d5e99214",
   "metadata": {},
   "outputs": [],
   "source": [
    "# Read the dataset and store in a data frame\n",
    "df = pd.read_csv('coffee_dataset.csv')\n",
    "\n",
    "# Create two data frames, for coffee and non-coffee drinkers\n",
    "df_coffee = df[df['drinks_coffee']==True]['height']\n",
    "df_non_coffee = df[df['drinks_coffee']==False]['height']"
   ]
  },
  {
   "cell_type": "code",
   "execution_count": 13,
   "id": "fa4124f3",
   "metadata": {},
   "outputs": [],
   "source": [
    "# First we create an Hypothesis object\n",
    "hypo = Hypothesis(df_coffee, df_non_coffee)"
   ]
  },
  {
   "cell_type": "code",
   "execution_count": 14,
   "id": "78b57d3a",
   "metadata": {},
   "outputs": [],
   "source": [
    "# Second we call the calc_bootstrap method\n",
    "hypo.calc_bootstrap(iterations=1000, samples=100, replacement=True)"
   ]
  },
  {
   "cell_type": "code",
   "execution_count": 15,
   "id": "cfcbba98",
   "metadata": {},
   "outputs": [],
   "source": [
    "# Third we call the calc_diff method to evaluate the difference of the bootstrapped samples\n",
    "hypo.calc_diff()"
   ]
  },
  {
   "cell_type": "code",
   "execution_count": 16,
   "id": "532dc824",
   "metadata": {},
   "outputs": [],
   "source": [
    "# Fourth we calculate the null hypothesis with mean zero and standard deviation from the calculated difference.\n",
    "# For this we use the calc_null method.\n",
    "hypo.calc_null(iterations=1000)"
   ]
  },
  {
   "cell_type": "code",
   "execution_count": 17,
   "id": "36704487",
   "metadata": {},
   "outputs": [],
   "source": [
    "# Our null hypothesis would be that the mean height of coffee drinkers is less or equal than \n",
    "# the mean height of non coffee drinkers\n",
    "null_type='<='"
   ]
  },
  {
   "cell_type": "code",
   "execution_count": 18,
   "id": "bfbf938f",
   "metadata": {},
   "outputs": [
    {
     "name": "stdout",
     "output_type": "stream",
     "text": [
      "p_val = 0.0\n"
     ]
    }
   ],
   "source": [
    "# Fifth we find the p-value with the calc_p method.\n",
    "p_val = hypo.calc_p(null_type=null_type)\n",
    "print(f'p_val = {p_val}')"
   ]
  },
  {
   "cell_type": "code",
   "execution_count": 19,
   "id": "b0db3fd4",
   "metadata": {},
   "outputs": [
    {
     "data": {
      "image/png": "[encoded data removed]",
      "text/plain": [
       "<Figure size 720x360 with 2 Axes>"
      ]
     },
     "metadata": {
      "needs_background": "light"
     },
     "output_type": "display_data"
    }
   ],
   "source": [
    "plt.rcParams['figure.figsize'] = (10,5)\n",
    "plt.subplot(1,2,1)\n",
    "hypo.plot_hist_samples(legend_one='coffee drinkers', legend_two='non coffee drinkers')\n",
    "plt.xlabel('Height')\n",
    "\n",
    "plt.subplot(1,2,2)\n",
    "hypo.plot_hist_diff(null_type=null_type, num_stds=6)\n",
    "plt.xlabel('Difference in means')\n",
    "plt.show()"
   ]
  },
  {
   "cell_type": "markdown",
   "id": "e184c918",
   "metadata": {},
   "source": [
    "These results show that in fact we can reject the null hypothesis. "
   ]
  },
  {
   "cell_type": "markdown",
   "id": "cf4f2967",
   "metadata": {},
   "source": [
    "# Example 4:\n",
    "This example is the same as example 3, but we want to show how easily is to evaluate an hypothesis using the `eval` method from boothy."
   ]
  },
  {
   "cell_type": "code",
   "execution_count": 20,
   "id": "5527e02a",
   "metadata": {},
   "outputs": [],
   "source": [
    "# Read the dataset and store in a data frame\n",
    "df = pd.read_csv('coffee_dataset.csv')\n",
    "\n",
    "# Create two data frames, for coffee and non-coffee drinkers\n",
    "df_coffee = df[df['drinks_coffee']==True]['height']\n",
    "df_non_coffee = df[df['drinks_coffee']==False]['height']"
   ]
  },
  {
   "cell_type": "code",
   "execution_count": 21,
   "id": "cb2438d7",
   "metadata": {},
   "outputs": [],
   "source": [
    "# First we create an Hypothesis object\n",
    "hypo = Hypothesis(df_coffee, df_non_coffee)"
   ]
  },
  {
   "cell_type": "code",
   "execution_count": 22,
   "id": "9752744a",
   "metadata": {},
   "outputs": [],
   "source": [
    "# Our null hypothesis would be that the mean height of coffee drinkers is less or equal than \n",
    "# the mean height of non coffee drinkers\n",
    "null_type='<='"
   ]
  },
  {
   "cell_type": "code",
   "execution_count": 23,
   "id": "3d0b21e7",
   "metadata": {},
   "outputs": [
    {
     "name": "stdout",
     "output_type": "stream",
     "text": [
      "p_val = 0.0\n"
     ]
    }
   ],
   "source": [
    "# Second we use the eval method to evaluate our hypothesis, and under the hood the bootstrapping, \n",
    "# difference and null hypothesis are calculated.\n",
    "p_val = hypo.eval(null_type=null_type)\n",
    "print(f'p_val = {p_val}')"
   ]
  },
  {
   "cell_type": "code",
   "execution_count": 24,
   "id": "f4d8f92a",
   "metadata": {},
   "outputs": [
    {
     "data": {
      "image/png": "[encoded data removed]",
      "text/plain": [
       "<Figure size 720x360 with 2 Axes>"
      ]
     },
     "metadata": {
      "needs_background": "light"
     },
     "output_type": "display_data"
    }
   ],
   "source": [
    "plt.rcParams['figure.figsize'] = (10,5)\n",
    "plt.subplot(1,2,1)\n",
    "hypo.plot_hist_samples(legend_one='coffee drinkers', legend_two='non coffee drinkers')\n",
    "plt.xlabel('Height')\n",
    "\n",
    "plt.subplot(1,2,2)\n",
    "hypo.plot_hist_diff(null_type=null_type, num_stds=8)\n",
    "plt.xlabel('Difference in means')\n",
    "plt.show()"
   ]
  },
  {
   "cell_type": "code",
   "execution_count": null,
   "id": "6b634eb9",
   "metadata": {},
   "outputs": [],
   "source": []
  }
 ],
 "metadata": {
  "kernelspec": {
   "display_name": "Python 3 (ipykernel)",
   "language": "python",
   "name": "python3"
  },
  "language_info": {
   "codemirror_mode": {
    "name": "ipython",
    "version": 3
   },
   "file_extension": ".py",
   "mimetype": "text/x-python",
   "name": "python",
   "nbconvert_exporter": "python",
   "pygments_lexer": "ipython3",
   "version": "3.8.15"
  }
 },
 "nbformat": 4,
 "nbformat_minor": 5
}
